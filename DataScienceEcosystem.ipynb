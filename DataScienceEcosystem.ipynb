{
 "cells": [
  {
   "cell_type": "markdown",
   "id": "701ec6c7-ddb4-4a33-a4a9-b7382a5400d4",
   "metadata": {},
   "source": [
    "# Data Science Tools and Ecosystem"
   ]
  },
  {
   "cell_type": "markdown",
   "id": "feb705d6-0519-4944-900f-770db97799fd",
   "metadata": {},
   "source": [
    "In this notebook, Data Science Tools and Ecosystem are summarized."
   ]
  },
  {
   "cell_type": "markdown",
   "id": "5b95afc5-d319-4117-8418-b22817b97939",
   "metadata": {
    "tags": []
   },
   "source": [
    "__Objectives:__\n",
    "- List popular languages for Data Science\n",
    "- List commonly used libraries for Data Science\n",
    "- List commonly used Data Science open source development environments\n",
    "- Show examples of evaluating arithmetic expressions"
   ]
  },
  {
   "cell_type": "markdown",
   "id": "7f2ac13a-9b23-4340-b905-d074cb242692",
   "metadata": {},
   "source": [
    "Some of the popular languages that Data Scientists use are:"
   ]
  },
  {
   "cell_type": "markdown",
   "id": "acc1a849-f559-49e3-90d1-4273a519825e",
   "metadata": {},
   "source": [
    "1. Python\n",
    "2. R\n",
    "3. SQL\n",
    "4. Javascript"
   ]
  },
  {
   "cell_type": "markdown",
   "id": "cc67be5c-904d-49fd-8014-31a2287c5415",
   "metadata": {},
   "source": [
    "Some of the commonly used libraries used by Data Scientists include:"
   ]
  },
  {
   "cell_type": "markdown",
   "id": "cd2890d3-14af-4377-957a-abeb4a53c098",
   "metadata": {},
   "source": [
    "1. Pandas\n",
    "2. Matplotlib\n",
    "3. ggplot"
   ]
  },
  {
   "cell_type": "markdown",
   "id": "33a8cb4d-7e6c-4ed9-9a0e-c3d1a40e1e6a",
   "metadata": {
    "tags": []
   },
   "source": [
    "| Data Science Tools |\n",
    "| ----- |\n",
    "| Jupyter |\n",
    "| Apache Zeppelin|\n",
    "| R Studio |"
   ]
  },
  {
   "cell_type": "markdown",
   "id": "36057024-eb1a-493f-b20e-59a968f5b942",
   "metadata": {},
   "source": [
    "### Below are a few examples of evaluating arithmetic expressions in Python"
   ]
  },
  {
   "cell_type": "code",
   "execution_count": 2,
   "id": "f06be81b-94cc-4f60-bcae-5668c8ee9f41",
   "metadata": {
    "tags": []
   },
   "outputs": [
    {
     "data": {
      "text/plain": [
       "17"
      ]
     },
     "execution_count": 2,
     "metadata": {},
     "output_type": "execute_result"
    }
   ],
   "source": [
    "# This a simple arithmetic expression to mutiply then add integers\n",
    "(3*4)+5"
   ]
  },
  {
   "cell_type": "code",
   "execution_count": 7,
   "id": "4404abbc-cf45-4b89-8297-16c299b84060",
   "metadata": {
    "tags": []
   },
   "outputs": [
    {
     "data": {
      "text/plain": [
       "3.3333333333333335"
      ]
     },
     "execution_count": 7,
     "metadata": {},
     "output_type": "execute_result"
    }
   ],
   "source": [
    "# This will convert 200 minutes to hours by diving by 60\n",
    "200/60"
   ]
  },
  {
   "cell_type": "markdown",
   "id": "0bc0b74b-2b99-4409-94cc-fac5642753e1",
   "metadata": {},
   "source": [
    "## Author\n",
    "Abhishek Goyal"
   ]
  },
  {
   "cell_type": "code",
   "execution_count": null,
   "id": "e4d5fa0f-ad5a-4659-a29f-2784538ff434",
   "metadata": {},
   "outputs": [],
   "source": []
  }
 ],
 "metadata": {
  "kernelspec": {
   "display_name": "Python",
   "language": "python",
   "name": "conda-env-python-py"
  },
  "language_info": {
   "codemirror_mode": {
    "name": "ipython",
    "version": 3
   },
   "file_extension": ".py",
   "mimetype": "text/x-python",
   "name": "python",
   "nbconvert_exporter": "python",
   "pygments_lexer": "ipython3",
   "version": "3.7.12"
  }
 },
 "nbformat": 4,
 "nbformat_minor": 5
}
